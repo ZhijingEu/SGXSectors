This repository contains a simple json file with listing of SGX counter to Sector based on the website https://sginvestors.io/sgx/stock-listing/sector as extracted 22 Nov 2019
